{
 "cells": [
  {
   "cell_type": "markdown",
   "metadata": {},
   "source": [
    "# A Data Scientist's Tourist Guide To NYC Taxis"
   ]
  },
  {
   "cell_type": "markdown",
   "metadata": {},
   "source": [
    "# Summary"
   ]
  },
  {
   "cell_type": "markdown",
   "metadata": {},
   "source": [
    "# Introduction\n",
    "\n",
    "Taking a taxi in New York City can be intimidating for first-time visitors, especially for tourist in this City. With over 200,000 taxi trips happening daily across the city, yellow cabs remain a vital part of NYC's transportation system. However, without proper knowledge, tourists often worry about whether they're being overcharged or taken on unnecessarily long routes.\n",
    "\n",
    "Using data from 30,000 Yellow Taxi trips in January 2024, provided by the NYC Taxi and Limousine Commission (TLC), we analyze the relationship between trip distances and fare amounts. Our goal is simple: help tourists understand how much they should expect to pay for their taxi rides in NYC based on data-driven analysis. \n",
    "\n"
   ]
  },
  {
   "cell_type": "code",
   "execution_count": null,
   "metadata": {},
   "outputs": [],
   "source": []
  },
  {
   "cell_type": "markdown",
   "metadata": {},
   "source": [
    "# Methods & Results"
   ]
  },
  {
   "cell_type": "markdown",
   "metadata": {},
   "source": [
    "Load the trip data for yellow taxis in January 2024 from the NYC Taxi and Limousine Commission's [website](https://www.nyc.gov/site/tlc/about/tlc-trip-record-data.page)."
   ]
  },
  {
   "cell_type": "code",
   "execution_count": null,
   "metadata": {},
   "outputs": [],
   "source": [
    "import pandas as pd\n",
    "\n",
    "data_set_link = \"https://d37ci6vzurychx.cloudfront.net/trip-data/yellow_tripdata_2024-01.parquet\"\n",
    "\n",
    "# Use only a smaller, random subset (30,000 rows) of the data\n",
    "df = pd.read_parquet(data_set_link).sample(30000, random_state=123)\n",
    "df.to_csv('data/yellow_tripdata_2024-01.csv', index=False)\n",
    "df.head()"
   ]
  },
  {
   "cell_type": "markdown",
   "metadata": {},
   "source": [
    "We'll now wrangle and clean the taxi data from it’s original format to the format necessary for regression analysis. Here, since we want to perform regression analysis on just the \"trip_distance\" and \"fare_amount\" columns, we drop any rows that contain NaNs in those columns."
   ]
  },
  {
   "cell_type": "code",
   "execution_count": null,
   "metadata": {},
   "outputs": [],
   "source": [
    "# Drop all rows with NaN in the \"trip_distance\" and \"fare_amount\" columns\n",
    "df = df.dropna(subset=[\"trip_distance\", \"fare_amount\"])"
   ]
  },
  {
   "cell_type": "markdown",
   "metadata": {},
   "source": [
    "Now, we'll perform a summary of the data set that is relevant for exploratory data analysis related to our regression analysis. We'll check out the summary statistics for each column in the dataset."
   ]
  },
  {
   "cell_type": "code",
   "execution_count": null,
   "metadata": {},
   "outputs": [],
   "source": [
    "df.describe()"
   ]
  },
  {
   "cell_type": "markdown",
   "metadata": {},
   "source": [
    "Based on the summary statistics, it shows that the mean trip distance is 3.20 miles, while the median is 1.68 miles, which may point to a right-skewed distribution. As for the fare amount, the mean fare amount is 12.8 USD, while the median is 18.12 USD, which again points to a right-skewed distribution for this column.\n"
   ]
  },
  {
   "cell_type": "markdown",
   "metadata": {},
   "source": [
    "Now, we'll create a visualizations for exploratory data analysis. First, we want to confirm that there are no missing values in the columns that we are performing regression on (\"trip_distance\" and \"fare_amount\")."
   ]
  },
  {
   "cell_type": "code",
   "execution_count": null,
   "metadata": {},
   "outputs": [],
   "source": [
    "import altair as alt\n",
    "# !pip install \"vegafusion[embed]>=1.5.0\"\n",
    "\n",
    "alt.data_transformers.enable(\"vegafusion\")"
   ]
  },
  {
   "cell_type": "code",
   "execution_count": null,
   "metadata": {},
   "outputs": [],
   "source": [
    "# Visualize missing values\n",
    "\n",
    "alt.Chart(\n",
    "    df.isna().reset_index().melt(\n",
    "        id_vars='index'\n",
    "    )\n",
    ").mark_rect().encode(\n",
    "    alt.X('index:O').axis(None),\n",
    "    alt.Y('variable').title(None),\n",
    "    alt.Color('value').title('NaN'),\n",
    "    alt.Stroke('value')\n",
    ").properties(\n",
    "    width=df.shape[0]\n",
    ")"
   ]
  },
  {
   "cell_type": "markdown",
   "metadata": {},
   "source": [
    "As evidenced by the chart, \"trip_distance\" and \"fare_amount\" do not have NaN values."
   ]
  },
  {
   "cell_type": "markdown",
   "metadata": {},
   "source": [
    "Next, we'll create a correlation plot of all of the columns against one another, to check out the strength and direction of associations between columns. "
   ]
  },
  {
   "cell_type": "code",
   "execution_count": null,
   "metadata": {},
   "outputs": [],
   "source": [
    "# Correlation Plot\n",
    "\n",
    "corr_df = df.select_dtypes('number').corr('spearman', numeric_only=True).stack().reset_index(name='corr')\n",
    "corr_df.loc[corr_df['corr'] == 1, 'corr'] = 0  # Remove diagonal\n",
    "corr_df['abs'] = corr_df['corr'].abs()\n",
    "\n",
    "alt.Chart(corr_df).mark_circle().encode(\n",
    "    x='level_0',\n",
    "    y='level_1',\n",
    "    size=alt.Size('abs').scale(domain=(0, 1)),\n",
    "    color=alt.Color('corr').scale(scheme='redblue', domain=(-1, 1))\n",
    ")"
   ]
  },
  {
   "cell_type": "markdown",
   "metadata": {},
   "source": [
    "Based on the correlation plot, we see that \"trip_distance\" and \"fare_amount\" have a fairly high positive correlation, which may indicate that they are fairly positively associated with each other."
   ]
  },
  {
   "cell_type": "markdown",
   "metadata": {},
   "source": [
    "Now, we'll perform regression analysis to examine the relationship between \"trip_distance\" (the indepdendent variable) and \"fare_amount\" (the dependent variable)."
   ]
  },
  {
   "cell_type": "code",
   "execution_count": null,
   "metadata": {},
   "outputs": [],
   "source": [
    "#!pip install scikit-learn\n",
    "\n",
    "from sklearn.linear_model import LinearRegression"
   ]
  },
  {
   "cell_type": "code",
   "execution_count": null,
   "metadata": {},
   "outputs": [],
   "source": [
    "# Example: relationship between trip_distance and fare_amount. \n",
    "X = df['trip_distance'].values.reshape(-1,1)\n",
    "y = df['fare_amount'].values\n",
    "\n",
    "model = LinearRegression()\n",
    "model.fit(X, y)\n",
    "\n",
    "intercept = model.intercept_\n",
    "slope = model.coef_[0]\n",
    "\n",
    "df['y_pred'] = model.predict(X)\n",
    "\n",
    "print(f\"The regression line formula is: y_hat = {slope:.4f} * trip_distance + {intercept:.4f}\")\n"
   ]
  },
  {
   "cell_type": "markdown",
   "metadata": {},
   "source": [
    "Finally, lets perform a visualization of the result of the regression analysis in the form of a scatter plot with the regression line."
   ]
  },
  {
   "cell_type": "code",
   "execution_count": null,
   "metadata": {},
   "outputs": [],
   "source": [
    "scatter_plot = alt.Chart(df).mark_circle().encode(\n",
    "    x=alt.X('trip_distance', title='Trip Distance (miles)'),\n",
    "    y=alt.Y('fare_amount', title=\"Fare Amount (USD)\"),\n",
    "    color=alt.value('purple'),\n",
    "    tooltip=['trip_distance', 'fare_amount']\n",
    ").properties(\n",
    "    title=\"Regression of Trip Distance vs Fare Amount for NYC Yellow Taxis in January 2024\"\n",
    ")\n",
    "\n",
    "line_plot = alt.Chart(df).mark_line(color='orange').encode(\n",
    "    x='trip_distance',\n",
    "    y='y_pred'\n",
    ")\n",
    "\n",
    "chart = scatter_plot + line_plot\n",
    "\n",
    "chart"
   ]
  },
  {
   "cell_type": "markdown",
   "metadata": {},
   "source": [
    "# Discussion"
   ]
  },
  {
   "cell_type": "markdown",
   "metadata": {},
   "source": [
    "# References"
   ]
  }
 ],
 "metadata": {
  "kernelspec": {
   "display_name": "group-env-test",
   "language": "python",
   "name": "python3"
  },
  "language_info": {
   "codemirror_mode": {
    "name": "ipython",
    "version": 3
   },
   "file_extension": ".py",
   "mimetype": "text/x-python",
   "name": "python",
   "nbconvert_exporter": "python",
   "pygments_lexer": "ipython3",
   "version": "3.10.15"
  }
 },
 "nbformat": 4,
 "nbformat_minor": 4
}
