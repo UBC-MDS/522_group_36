{
 "cells": [
  {
   "cell_type": "markdown",
   "metadata": {},
   "source": [
    "# A Data Scientist's Tourist Guide To NYC Taxis"
   ]
  },
  {
   "cell_type": "markdown",
   "metadata": {},
   "source": [
    "# Summary"
   ]
  },
  {
   "cell_type": "markdown",
   "metadata": {},
   "source": [
    "# Introduction\n",
    "\n",
    "Is this your first time traveling to New York City? Scared to being ripped off by unscrupulous drivers? If you answered yes to both questions, then you are in the right place. In this notebook, we will provide you with a data science approach to New York City taxi fares. \n",
    "\n",
    "\n",
    "This analysis will start with loading the data, followed by simple EDAs, and end with a simple linear regression (SLR) to model taxi fares. \n",
    "\n"
   ]
  },
  {
   "cell_type": "markdown",
   "metadata": {},
   "source": [
    "# Methods & Results\n",
    "\n",
    "(describe in written english the methods you used to perform your analysis from beginning to end that narrates the code the does the analysis.)"
   ]
  },
  {
   "cell_type": "code",
   "execution_count": null,
   "metadata": {},
   "outputs": [],
   "source": []
  },
  {
   "cell_type": "markdown",
   "metadata": {},
   "source": [
    "Load data from the NYC's Taxi and Limousine Commission's website at https://www.nyc.gov/site/tlc/about/tlc-trip-record-data.page"
   ]
  },
  {
   "cell_type": "code",
   "execution_count": null,
   "metadata": {},
   "outputs": [],
   "source": [
    "import pandas as pd\n",
    "# !pip install pyarrow\n",
    "\n",
    "url = \"https://d37ci6vzurychx.cloudfront.net/trip-data/yellow_tripdata_2024-01.parquet\"\n",
    "df = pd.read_parquet(url, engine='pyarrow')\n",
    "\n",
    "print(df.head())"
   ]
  },
  {
   "cell_type": "markdown",
   "metadata": {},
   "source": [
    "Wrangle and clean the data from it’s original format to the format necessary for classification/clustering analysis."
   ]
  },
  {
   "cell_type": "code",
   "execution_count": null,
   "metadata": {},
   "outputs": [],
   "source": [
    "# NOTE: wrangled data is already in the data folder TODO: maybe move the write_data_folder code to here\n",
    "\n",
    "df = pd.read_csv(\"data/yellow_tripdata_2024-01.csv\") \n",
    "\n",
    "# drop all rows with NaN TODO: do we want to drop all rows where ANY col has NaNs?\n",
    "df = df.dropna()"
   ]
  },
  {
   "cell_type": "markdown",
   "metadata": {},
   "source": [
    "Perform a summary of the data set that is relevant for exploratory data analysis related to the planned classification analysis"
   ]
  },
  {
   "cell_type": "code",
   "execution_count": null,
   "metadata": {},
   "outputs": [],
   "source": [
    "df.describe()"
   ]
  },
  {
   "cell_type": "markdown",
   "metadata": {},
   "source": [
    "Create a visualization of the dataset that is relevant for exploratory data analysis related to the planned classification analysis"
   ]
  },
  {
   "cell_type": "code",
   "execution_count": null,
   "metadata": {},
   "outputs": [],
   "source": [
    "import altair as alt\n",
    "# !pip install \"vegafusion[embed]>=1.5.0\"\n",
    "\n",
    "alt.data_transformers.enable(\"vegafusion\")"
   ]
  },
  {
   "cell_type": "code",
   "execution_count": null,
   "metadata": {},
   "outputs": [],
   "source": [
    "# Visualize missing values NOTE: after doing dropna(), obviously there's no missing values anymore\n",
    "\n",
    "alt.Chart(\n",
    "    df.isna().reset_index().melt(\n",
    "        id_vars='index'\n",
    "    )\n",
    ").mark_rect().encode(\n",
    "    alt.X('index:O').axis(None),\n",
    "    alt.Y('variable').title(None),\n",
    "    alt.Color('value').title('NaN'),\n",
    "    alt.Stroke('value') # We set the stroke which is the outline of each rectangle in the heatmap\n",
    ").properties(\n",
    "    width=df.shape[0]\n",
    ")"
   ]
  },
  {
   "cell_type": "code",
   "execution_count": null,
   "metadata": {},
   "outputs": [],
   "source": [
    "# Correlation Plot (TODO: see if we're even supposed to do this)\n",
    "\n",
    "corr_df = df.select_dtypes('number').corr('spearman', numeric_only=True).stack().reset_index(name='corr')\n",
    "corr_df.loc[corr_df['corr'] == 1, 'corr'] = 0  # Remove diagonal\n",
    "corr_df['abs'] = corr_df['corr'].abs()\n",
    "\n",
    "alt.Chart(corr_df).mark_circle().encode(\n",
    "    x='level_0',\n",
    "    y='level_1',\n",
    "    size=alt.Size('abs').scale(domain=(0, 1)),\n",
    "    color=alt.Color('corr').scale(scheme='redblue', domain=(-1, 1))\n",
    ")"
   ]
  },
  {
   "cell_type": "markdown",
   "metadata": {},
   "source": [
    "Perform classification or regression analysis"
   ]
  },
  {
   "cell_type": "code",
   "execution_count": null,
   "metadata": {},
   "outputs": [],
   "source": [
    "#!pip install scikit-learn\n",
    "\n",
    "from sklearn.linear_model import LinearRegression"
   ]
  },
  {
   "cell_type": "code",
   "execution_count": null,
   "metadata": {},
   "outputs": [],
   "source": [
    "# Example: relationship between passenger_count and tip_amount. NOTE: based on the correlation plots, there seems to be NO correlation btw these two!\n",
    "\n",
    "X = df['passenger_count'].values.reshape(-1,1)\n",
    "y = df['tip_amount'].values\n",
    "\n",
    "model = LinearRegression()\n",
    "model.fit(X, y)\n",
    "\n",
    "intercept = model.intercept_\n",
    "slope = model.coef_[0]\n",
    "\n",
    "df['y_pred'] = model.predict(X)"
   ]
  },
  {
   "cell_type": "markdown",
   "metadata": {},
   "source": [
    "Create a visualization of the result of the analysis\n"
   ]
  },
  {
   "cell_type": "code",
   "execution_count": null,
   "metadata": {},
   "outputs": [],
   "source": [
    "scatter_plot = alt.Chart(df).mark_circle().encode(\n",
    "    x='passenger_count',\n",
    "    y='tip_amount',\n",
    "    color=alt.value('green'),\n",
    "    tooltip=['passenger_count', 'tip_amount']\n",
    ")\n",
    "\n",
    "line_plot = alt.Chart(df).mark_line(color='orange').encode(\n",
    "    x='passenger_count',\n",
    "    y='y_pred'\n",
    ")\n",
    "\n",
    "chart = scatter_plot + line_plot\n",
    "\n",
    "chart"
   ]
  },
  {
   "cell_type": "markdown",
   "metadata": {},
   "source": [
    "# Discussion"
   ]
  },
  {
   "cell_type": "markdown",
   "metadata": {},
   "source": [
    "# References"
   ]
  }
 ],
 "metadata": {
  "kernelspec": {
   "display_name": "dsci522_group",
   "language": "python",
   "name": "python3"
  },
  "language_info": {
   "codemirror_mode": {
    "name": "ipython",
    "version": 3
   },
   "file_extension": ".py",
   "mimetype": "text/x-python",
   "name": "python",
   "nbconvert_exporter": "python",
   "pygments_lexer": "ipython3",
   "version": "3.10.15"
  }
 },
 "nbformat": 4,
 "nbformat_minor": 4
}
